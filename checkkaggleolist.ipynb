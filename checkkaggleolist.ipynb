{
  "nbformat": 4,
  "nbformat_minor": 0,
  "metadata": {
    "kernelspec": {
      "language": "python",
      "display_name": "Python 3",
      "name": "python3"
    },
    "language_info": {
      "pygments_lexer": "ipython3",
      "nbconvert_exporter": "python",
      "version": "3.6.4",
      "file_extension": ".py",
      "codemirror_mode": {
        "name": "ipython",
        "version": 3
      },
      "name": "python",
      "mimetype": "text/x-python"
    },
    "colab": {
      "name": "checkkaggleolist.ipynb",
      "provenance": [],
      "collapsed_sections": [],
      "include_colab_link": true
    }
  },
  "cells": [
    {
      "cell_type": "markdown",
      "metadata": {
        "id": "view-in-github",
        "colab_type": "text"
      },
      "source": [
        "<a href=\"https://colab.research.google.com/github/manjunathggaonkar/Task/blob/master/checkkaggleolist.ipynb\" target=\"_parent\"><img src=\"https://colab.research.google.com/assets/colab-badge.svg\" alt=\"Open In Colab\"/></a>"
      ]
    },
    {
      "cell_type": "code",
      "metadata": {
        "_uuid": "8f2839f25d086af736a60e9eeb907d3b93b6e0e5",
        "_cell_guid": "b1076dfc-b9ad-4769-8c92-a6c4dae69d19",
        "trusted": true,
        "id": "XKJywYGI6NPA",
        "colab_type": "code",
        "colab": {}
      },
      "source": [
        "# This Python 3 environment comes with many helpful analytics libraries installed\n",
        "# It is defined by the kaggle/python Docker image: https://github.com/kaggle/docker-python\n",
        "# For example, here's several helpful packages to load\n",
        "\n",
        "import numpy as np # linear algebra\n",
        "import pandas as pd # data processing, CSV file I/O (e.g. pd.read_csv)\n",
        "\n",
        "# Input data files are available in the read-only \"../input/\" directory\n",
        "# For example, running this (by clicking run or pressing Shift+Enter) will list all files under the input directory\n",
        "\n",
        "import os\n",
        "for dirname, _, filenames in os.walk('/kaggle/input'):\n",
        "    for filename in filenames:\n",
        "        print(os.path.join(dirname, filename))\n",
        "\n",
        "# You can write up to 5GB to the current directory (/kaggle/working/) that gets preserved as output when you create a version using \"Save & Run All\" \n",
        "# You can also write temporary files to /kaggle/temp/, but they won't be saved outside of the current session"
      ],
      "execution_count": 0,
      "outputs": []
    },
    {
      "cell_type": "code",
      "metadata": {
        "id": "zacbzgKs9cAI",
        "colab_type": "code",
        "colab": {
          "base_uri": "https://localhost:8080/",
          "height": 204
        },
        "outputId": "331781e3-ba3b-43ff-ac55-bae9e15e33ab"
      },
      "source": [
        "!pip install kaggle"
      ],
      "execution_count": 15,
      "outputs": [
        {
          "output_type": "stream",
          "text": [
            "Requirement already satisfied: kaggle in /usr/local/lib/python3.6/dist-packages (1.5.6)\n",
            "Requirement already satisfied: python-slugify in /usr/local/lib/python3.6/dist-packages (from kaggle) (4.0.0)\n",
            "Requirement already satisfied: requests in /usr/local/lib/python3.6/dist-packages (from kaggle) (2.23.0)\n",
            "Requirement already satisfied: python-dateutil in /usr/local/lib/python3.6/dist-packages (from kaggle) (2.8.1)\n",
            "Requirement already satisfied: urllib3<1.25,>=1.21.1 in /usr/local/lib/python3.6/dist-packages (from kaggle) (1.24.3)\n",
            "Requirement already satisfied: tqdm in /usr/local/lib/python3.6/dist-packages (from kaggle) (4.41.1)\n",
            "Requirement already satisfied: six>=1.10 in /usr/local/lib/python3.6/dist-packages (from kaggle) (1.12.0)\n",
            "Requirement already satisfied: certifi in /usr/local/lib/python3.6/dist-packages (from kaggle) (2020.4.5.1)\n",
            "Requirement already satisfied: text-unidecode>=1.3 in /usr/local/lib/python3.6/dist-packages (from python-slugify->kaggle) (1.3)\n",
            "Requirement already satisfied: chardet<4,>=3.0.2 in /usr/local/lib/python3.6/dist-packages (from requests->kaggle) (3.0.4)\n",
            "Requirement already satisfied: idna<3,>=2.5 in /usr/local/lib/python3.6/dist-packages (from requests->kaggle) (2.9)\n"
          ],
          "name": "stdout"
        }
      ]
    },
    {
      "cell_type": "code",
      "metadata": {
        "id": "EoVJ7KRH-dn4",
        "colab_type": "code",
        "colab": {
          "resources": {
            "http://localhost:8080/nbextensions/google.colab/files.js": {
              "data": "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",
              "ok": true,
              "headers": [
                [
                  "content-type",
                  "application/javascript"
                ]
              ],
              "status": 200,
              "status_text": ""
            }
          },
          "base_uri": "https://localhost:8080/",
          "height": 91
        },
        "outputId": "ce0ef77c-352e-4ee4-9915-2ae0a8149d22"
      },
      "source": [
        "from google.colab import files\n",
        "files.upload()"
      ],
      "execution_count": 16,
      "outputs": [
        {
          "output_type": "display_data",
          "data": {
            "text/html": [
              "\n",
              "     <input type=\"file\" id=\"files-a9e1456b-320d-4c70-981e-98bec45d244e\" name=\"files[]\" multiple disabled />\n",
              "     <output id=\"result-a9e1456b-320d-4c70-981e-98bec45d244e\">\n",
              "      Upload widget is only available when the cell has been executed in the\n",
              "      current browser session. Please rerun this cell to enable.\n",
              "      </output>\n",
              "      <script src=\"/nbextensions/google.colab/files.js\"></script> "
            ],
            "text/plain": [
              "<IPython.core.display.HTML object>"
            ]
          },
          "metadata": {
            "tags": []
          }
        },
        {
          "output_type": "stream",
          "text": [
            "Saving kaggle.json to kaggle.json\n"
          ],
          "name": "stdout"
        },
        {
          "output_type": "execute_result",
          "data": {
            "text/plain": [
              "{'kaggle.json': b'{\"username\":\"manjunathggaonkar\",\"key\":\"f4639546f3a073bead67a80b0179c365\"}'}"
            ]
          },
          "metadata": {
            "tags": []
          },
          "execution_count": 16
        }
      ]
    },
    {
      "cell_type": "code",
      "metadata": {
        "id": "g1hBxYwo_CfO",
        "colab_type": "code",
        "colab": {}
      },
      "source": [
        "!mkdir -p ~/.kaggle\n",
        "!cp kaggle.json ~/.kaggle/\n",
        "\n",
        "!chmod 600 ~/.kaggle/kaggle.json"
      ],
      "execution_count": 0,
      "outputs": []
    },
    {
      "cell_type": "code",
      "metadata": {
        "id": "wzGvnhgu_6Z0",
        "colab_type": "code",
        "colab": {
          "base_uri": "https://localhost:8080/",
          "height": 68
        },
        "outputId": "c0c6046e-975f-4731-cb52-386a6c0a1905"
      },
      "source": [
        "!kaggle datasets download -d olistbr/marketing-funnel-olist"
      ],
      "execution_count": 18,
      "outputs": [
        {
          "output_type": "stream",
          "text": [
            "Downloading marketing-funnel-olist.zip to /content\n",
            "\r  0% 0.00/278k [00:00<?, ?B/s]\n",
            "\r100% 278k/278k [00:00<00:00, 41.1MB/s]\n"
          ],
          "name": "stdout"
        }
      ]
    },
    {
      "cell_type": "code",
      "metadata": {
        "id": "n0iOnbMzBHQl",
        "colab_type": "code",
        "colab": {
          "base_uri": "https://localhost:8080/",
          "height": 34
        },
        "outputId": "e386b288-e595-45e1-81cd-5972f96115ff"
      },
      "source": [
        "from zipfile import ZipFile\n",
        "file_name = \"marketing-funnel-olist.zip\"\n",
        "with ZipFile(file_name, 'r') as zip:\n",
        "  zip.extractall()\n",
        "  print('Done')"
      ],
      "execution_count": 19,
      "outputs": [
        {
          "output_type": "stream",
          "text": [
            "Done\n"
          ],
          "name": "stdout"
        }
      ]
    },
    {
      "cell_type": "code",
      "metadata": {
        "_uuid": "d629ff2d2480ee46fbb7e2d37f6b5fab8052498a",
        "_cell_guid": "79c7e3d0-c299-4dcb-8224-4455121ee9b0",
        "trusted": true,
        "id": "tH4amwgh6NPH",
        "colab_type": "code",
        "colab": {
          "base_uri": "https://localhost:8080/",
          "height": 359
        },
        "outputId": "de9cb2ec-bf01-4586-e9b1-641bfd5e0b62"
      },
      "source": [
        "mql = pd.read_csv(\"olist_marketing_qualified_leads_dataset.csv\")\n",
        "mql.head(10)"
      ],
      "execution_count": 20,
      "outputs": [
        {
          "output_type": "execute_result",
          "data": {
            "text/html": [
              "<div>\n",
              "<style scoped>\n",
              "    .dataframe tbody tr th:only-of-type {\n",
              "        vertical-align: middle;\n",
              "    }\n",
              "\n",
              "    .dataframe tbody tr th {\n",
              "        vertical-align: top;\n",
              "    }\n",
              "\n",
              "    .dataframe thead th {\n",
              "        text-align: right;\n",
              "    }\n",
              "</style>\n",
              "<table border=\"1\" class=\"dataframe\">\n",
              "  <thead>\n",
              "    <tr style=\"text-align: right;\">\n",
              "      <th></th>\n",
              "      <th>mql_id</th>\n",
              "      <th>first_contact_date</th>\n",
              "      <th>landing_page_id</th>\n",
              "      <th>origin</th>\n",
              "    </tr>\n",
              "  </thead>\n",
              "  <tbody>\n",
              "    <tr>\n",
              "      <th>0</th>\n",
              "      <td>dac32acd4db4c29c230538b72f8dd87d</td>\n",
              "      <td>2018-02-01</td>\n",
              "      <td>88740e65d5d6b056e0cda098e1ea6313</td>\n",
              "      <td>social</td>\n",
              "    </tr>\n",
              "    <tr>\n",
              "      <th>1</th>\n",
              "      <td>8c18d1de7f67e60dbd64e3c07d7e9d5d</td>\n",
              "      <td>2017-10-20</td>\n",
              "      <td>007f9098284a86ee80ddeb25d53e0af8</td>\n",
              "      <td>paid_search</td>\n",
              "    </tr>\n",
              "    <tr>\n",
              "      <th>2</th>\n",
              "      <td>b4bc852d233dfefc5131f593b538befa</td>\n",
              "      <td>2018-03-22</td>\n",
              "      <td>a7982125ff7aa3b2054c6e44f9d28522</td>\n",
              "      <td>organic_search</td>\n",
              "    </tr>\n",
              "    <tr>\n",
              "      <th>3</th>\n",
              "      <td>6be030b81c75970747525b843c1ef4f8</td>\n",
              "      <td>2018-01-22</td>\n",
              "      <td>d45d558f0daeecf3cccdffe3c59684aa</td>\n",
              "      <td>email</td>\n",
              "    </tr>\n",
              "    <tr>\n",
              "      <th>4</th>\n",
              "      <td>5420aad7fec3549a85876ba1c529bd84</td>\n",
              "      <td>2018-02-21</td>\n",
              "      <td>b48ec5f3b04e9068441002a19df93c6c</td>\n",
              "      <td>organic_search</td>\n",
              "    </tr>\n",
              "    <tr>\n",
              "      <th>5</th>\n",
              "      <td>28bdfd5f057764b54c38770f95c69f2f</td>\n",
              "      <td>2018-01-14</td>\n",
              "      <td>22c29808c4f815213303f8933030604c</td>\n",
              "      <td>organic_search</td>\n",
              "    </tr>\n",
              "    <tr>\n",
              "      <th>6</th>\n",
              "      <td>126a0d10becbaafcb2e72ce6848cf32c</td>\n",
              "      <td>2018-05-15</td>\n",
              "      <td>6a110e795dd487f1cf8d7583671987af</td>\n",
              "      <td>email</td>\n",
              "    </tr>\n",
              "    <tr>\n",
              "      <th>7</th>\n",
              "      <td>f76136f54d14a3345951f25b7932366b</td>\n",
              "      <td>2018-05-24</td>\n",
              "      <td>d51b0d02f063ba1d053db6d97226eec3</td>\n",
              "      <td>email</td>\n",
              "    </tr>\n",
              "    <tr>\n",
              "      <th>8</th>\n",
              "      <td>2f838cade4a6012a6cb1016d1d8d95ed</td>\n",
              "      <td>2017-11-10</td>\n",
              "      <td>aeac92c0f5ae22a04ed3b746cce3a1b6</td>\n",
              "      <td>organic_search</td>\n",
              "    </tr>\n",
              "    <tr>\n",
              "      <th>9</th>\n",
              "      <td>7281942387a1a0c3f72a50a8b0bb0920</td>\n",
              "      <td>2017-12-25</td>\n",
              "      <td>88740e65d5d6b056e0cda098e1ea6313</td>\n",
              "      <td>social</td>\n",
              "    </tr>\n",
              "  </tbody>\n",
              "</table>\n",
              "</div>"
            ],
            "text/plain": [
              "                             mql_id  ...          origin\n",
              "0  dac32acd4db4c29c230538b72f8dd87d  ...          social\n",
              "1  8c18d1de7f67e60dbd64e3c07d7e9d5d  ...     paid_search\n",
              "2  b4bc852d233dfefc5131f593b538befa  ...  organic_search\n",
              "3  6be030b81c75970747525b843c1ef4f8  ...           email\n",
              "4  5420aad7fec3549a85876ba1c529bd84  ...  organic_search\n",
              "5  28bdfd5f057764b54c38770f95c69f2f  ...  organic_search\n",
              "6  126a0d10becbaafcb2e72ce6848cf32c  ...           email\n",
              "7  f76136f54d14a3345951f25b7932366b  ...           email\n",
              "8  2f838cade4a6012a6cb1016d1d8d95ed  ...  organic_search\n",
              "9  7281942387a1a0c3f72a50a8b0bb0920  ...          social\n",
              "\n",
              "[10 rows x 4 columns]"
            ]
          },
          "metadata": {
            "tags": []
          },
          "execution_count": 20
        }
      ]
    },
    {
      "cell_type": "code",
      "metadata": {
        "trusted": true,
        "id": "gnHVsQvZ6NPM",
        "colab_type": "code",
        "colab": {
          "base_uri": "https://localhost:8080/",
          "height": 413
        },
        "outputId": "b74503eb-b552-4495-dac7-e2749ea727c2"
      },
      "source": [
        "cdb = pd.read_csv(\"olist_closed_deals_dataset.csv\")\n",
        "mfb = mql.merge(cdb, on='mql_id', how='left')\n",
        "mfb.head(10)"
      ],
      "execution_count": 21,
      "outputs": [
        {
          "output_type": "execute_result",
          "data": {
            "text/html": [
              "<div>\n",
              "<style scoped>\n",
              "    .dataframe tbody tr th:only-of-type {\n",
              "        vertical-align: middle;\n",
              "    }\n",
              "\n",
              "    .dataframe tbody tr th {\n",
              "        vertical-align: top;\n",
              "    }\n",
              "\n",
              "    .dataframe thead th {\n",
              "        text-align: right;\n",
              "    }\n",
              "</style>\n",
              "<table border=\"1\" class=\"dataframe\">\n",
              "  <thead>\n",
              "    <tr style=\"text-align: right;\">\n",
              "      <th></th>\n",
              "      <th>mql_id</th>\n",
              "      <th>first_contact_date</th>\n",
              "      <th>landing_page_id</th>\n",
              "      <th>origin</th>\n",
              "      <th>seller_id</th>\n",
              "      <th>sdr_id</th>\n",
              "      <th>sr_id</th>\n",
              "      <th>won_date</th>\n",
              "      <th>business_segment</th>\n",
              "      <th>lead_type</th>\n",
              "      <th>lead_behaviour_profile</th>\n",
              "      <th>has_company</th>\n",
              "      <th>has_gtin</th>\n",
              "      <th>average_stock</th>\n",
              "      <th>business_type</th>\n",
              "      <th>declared_product_catalog_size</th>\n",
              "      <th>declared_monthly_revenue</th>\n",
              "    </tr>\n",
              "  </thead>\n",
              "  <tbody>\n",
              "    <tr>\n",
              "      <th>0</th>\n",
              "      <td>dac32acd4db4c29c230538b72f8dd87d</td>\n",
              "      <td>2018-02-01</td>\n",
              "      <td>88740e65d5d6b056e0cda098e1ea6313</td>\n",
              "      <td>social</td>\n",
              "      <td>NaN</td>\n",
              "      <td>NaN</td>\n",
              "      <td>NaN</td>\n",
              "      <td>NaN</td>\n",
              "      <td>NaN</td>\n",
              "      <td>NaN</td>\n",
              "      <td>NaN</td>\n",
              "      <td>NaN</td>\n",
              "      <td>NaN</td>\n",
              "      <td>NaN</td>\n",
              "      <td>NaN</td>\n",
              "      <td>NaN</td>\n",
              "      <td>NaN</td>\n",
              "    </tr>\n",
              "    <tr>\n",
              "      <th>1</th>\n",
              "      <td>8c18d1de7f67e60dbd64e3c07d7e9d5d</td>\n",
              "      <td>2017-10-20</td>\n",
              "      <td>007f9098284a86ee80ddeb25d53e0af8</td>\n",
              "      <td>paid_search</td>\n",
              "      <td>NaN</td>\n",
              "      <td>NaN</td>\n",
              "      <td>NaN</td>\n",
              "      <td>NaN</td>\n",
              "      <td>NaN</td>\n",
              "      <td>NaN</td>\n",
              "      <td>NaN</td>\n",
              "      <td>NaN</td>\n",
              "      <td>NaN</td>\n",
              "      <td>NaN</td>\n",
              "      <td>NaN</td>\n",
              "      <td>NaN</td>\n",
              "      <td>NaN</td>\n",
              "    </tr>\n",
              "    <tr>\n",
              "      <th>2</th>\n",
              "      <td>b4bc852d233dfefc5131f593b538befa</td>\n",
              "      <td>2018-03-22</td>\n",
              "      <td>a7982125ff7aa3b2054c6e44f9d28522</td>\n",
              "      <td>organic_search</td>\n",
              "      <td>NaN</td>\n",
              "      <td>NaN</td>\n",
              "      <td>NaN</td>\n",
              "      <td>NaN</td>\n",
              "      <td>NaN</td>\n",
              "      <td>NaN</td>\n",
              "      <td>NaN</td>\n",
              "      <td>NaN</td>\n",
              "      <td>NaN</td>\n",
              "      <td>NaN</td>\n",
              "      <td>NaN</td>\n",
              "      <td>NaN</td>\n",
              "      <td>NaN</td>\n",
              "    </tr>\n",
              "    <tr>\n",
              "      <th>3</th>\n",
              "      <td>6be030b81c75970747525b843c1ef4f8</td>\n",
              "      <td>2018-01-22</td>\n",
              "      <td>d45d558f0daeecf3cccdffe3c59684aa</td>\n",
              "      <td>email</td>\n",
              "      <td>NaN</td>\n",
              "      <td>NaN</td>\n",
              "      <td>NaN</td>\n",
              "      <td>NaN</td>\n",
              "      <td>NaN</td>\n",
              "      <td>NaN</td>\n",
              "      <td>NaN</td>\n",
              "      <td>NaN</td>\n",
              "      <td>NaN</td>\n",
              "      <td>NaN</td>\n",
              "      <td>NaN</td>\n",
              "      <td>NaN</td>\n",
              "      <td>NaN</td>\n",
              "    </tr>\n",
              "    <tr>\n",
              "      <th>4</th>\n",
              "      <td>5420aad7fec3549a85876ba1c529bd84</td>\n",
              "      <td>2018-02-21</td>\n",
              "      <td>b48ec5f3b04e9068441002a19df93c6c</td>\n",
              "      <td>organic_search</td>\n",
              "      <td>2c43fb513632d29b3b58df74816f1b06</td>\n",
              "      <td>a8387c01a09e99ce014107505b92388c</td>\n",
              "      <td>4ef15afb4b2723d8f3d81e51ec7afefe</td>\n",
              "      <td>2018-02-26 19:58:54</td>\n",
              "      <td>pet</td>\n",
              "      <td>online_medium</td>\n",
              "      <td>cat</td>\n",
              "      <td>NaN</td>\n",
              "      <td>NaN</td>\n",
              "      <td>NaN</td>\n",
              "      <td>reseller</td>\n",
              "      <td>NaN</td>\n",
              "      <td>0.0</td>\n",
              "    </tr>\n",
              "    <tr>\n",
              "      <th>5</th>\n",
              "      <td>28bdfd5f057764b54c38770f95c69f2f</td>\n",
              "      <td>2018-01-14</td>\n",
              "      <td>22c29808c4f815213303f8933030604c</td>\n",
              "      <td>organic_search</td>\n",
              "      <td>NaN</td>\n",
              "      <td>NaN</td>\n",
              "      <td>NaN</td>\n",
              "      <td>NaN</td>\n",
              "      <td>NaN</td>\n",
              "      <td>NaN</td>\n",
              "      <td>NaN</td>\n",
              "      <td>NaN</td>\n",
              "      <td>NaN</td>\n",
              "      <td>NaN</td>\n",
              "      <td>NaN</td>\n",
              "      <td>NaN</td>\n",
              "      <td>NaN</td>\n",
              "    </tr>\n",
              "    <tr>\n",
              "      <th>6</th>\n",
              "      <td>126a0d10becbaafcb2e72ce6848cf32c</td>\n",
              "      <td>2018-05-15</td>\n",
              "      <td>6a110e795dd487f1cf8d7583671987af</td>\n",
              "      <td>email</td>\n",
              "      <td>NaN</td>\n",
              "      <td>NaN</td>\n",
              "      <td>NaN</td>\n",
              "      <td>NaN</td>\n",
              "      <td>NaN</td>\n",
              "      <td>NaN</td>\n",
              "      <td>NaN</td>\n",
              "      <td>NaN</td>\n",
              "      <td>NaN</td>\n",
              "      <td>NaN</td>\n",
              "      <td>NaN</td>\n",
              "      <td>NaN</td>\n",
              "      <td>NaN</td>\n",
              "    </tr>\n",
              "    <tr>\n",
              "      <th>7</th>\n",
              "      <td>f76136f54d14a3345951f25b7932366b</td>\n",
              "      <td>2018-05-24</td>\n",
              "      <td>d51b0d02f063ba1d053db6d97226eec3</td>\n",
              "      <td>email</td>\n",
              "      <td>NaN</td>\n",
              "      <td>NaN</td>\n",
              "      <td>NaN</td>\n",
              "      <td>NaN</td>\n",
              "      <td>NaN</td>\n",
              "      <td>NaN</td>\n",
              "      <td>NaN</td>\n",
              "      <td>NaN</td>\n",
              "      <td>NaN</td>\n",
              "      <td>NaN</td>\n",
              "      <td>NaN</td>\n",
              "      <td>NaN</td>\n",
              "      <td>NaN</td>\n",
              "    </tr>\n",
              "    <tr>\n",
              "      <th>8</th>\n",
              "      <td>2f838cade4a6012a6cb1016d1d8d95ed</td>\n",
              "      <td>2017-11-10</td>\n",
              "      <td>aeac92c0f5ae22a04ed3b746cce3a1b6</td>\n",
              "      <td>organic_search</td>\n",
              "      <td>NaN</td>\n",
              "      <td>NaN</td>\n",
              "      <td>NaN</td>\n",
              "      <td>NaN</td>\n",
              "      <td>NaN</td>\n",
              "      <td>NaN</td>\n",
              "      <td>NaN</td>\n",
              "      <td>NaN</td>\n",
              "      <td>NaN</td>\n",
              "      <td>NaN</td>\n",
              "      <td>NaN</td>\n",
              "      <td>NaN</td>\n",
              "      <td>NaN</td>\n",
              "    </tr>\n",
              "    <tr>\n",
              "      <th>9</th>\n",
              "      <td>7281942387a1a0c3f72a50a8b0bb0920</td>\n",
              "      <td>2017-12-25</td>\n",
              "      <td>88740e65d5d6b056e0cda098e1ea6313</td>\n",
              "      <td>social</td>\n",
              "      <td>NaN</td>\n",
              "      <td>NaN</td>\n",
              "      <td>NaN</td>\n",
              "      <td>NaN</td>\n",
              "      <td>NaN</td>\n",
              "      <td>NaN</td>\n",
              "      <td>NaN</td>\n",
              "      <td>NaN</td>\n",
              "      <td>NaN</td>\n",
              "      <td>NaN</td>\n",
              "      <td>NaN</td>\n",
              "      <td>NaN</td>\n",
              "      <td>NaN</td>\n",
              "    </tr>\n",
              "  </tbody>\n",
              "</table>\n",
              "</div>"
            ],
            "text/plain": [
              "                             mql_id  ... declared_monthly_revenue\n",
              "0  dac32acd4db4c29c230538b72f8dd87d  ...                      NaN\n",
              "1  8c18d1de7f67e60dbd64e3c07d7e9d5d  ...                      NaN\n",
              "2  b4bc852d233dfefc5131f593b538befa  ...                      NaN\n",
              "3  6be030b81c75970747525b843c1ef4f8  ...                      NaN\n",
              "4  5420aad7fec3549a85876ba1c529bd84  ...                      0.0\n",
              "5  28bdfd5f057764b54c38770f95c69f2f  ...                      NaN\n",
              "6  126a0d10becbaafcb2e72ce6848cf32c  ...                      NaN\n",
              "7  f76136f54d14a3345951f25b7932366b  ...                      NaN\n",
              "8  2f838cade4a6012a6cb1016d1d8d95ed  ...                      NaN\n",
              "9  7281942387a1a0c3f72a50a8b0bb0920  ...                      NaN\n",
              "\n",
              "[10 rows x 17 columns]"
            ]
          },
          "metadata": {
            "tags": []
          },
          "execution_count": 21
        }
      ]
    },
    {
      "cell_type": "code",
      "metadata": {
        "trusted": true,
        "id": "gKmJ48sA6NPQ",
        "colab_type": "code",
        "colab": {
          "base_uri": "https://localhost:8080/",
          "height": 204
        },
        "outputId": "5d915e8d-f15f-4254-9448-e27a08bb53d4"
      },
      "source": [
        "pd.value_counts(mfb['origin'])"
      ],
      "execution_count": 22,
      "outputs": [
        {
          "output_type": "execute_result",
          "data": {
            "text/plain": [
              "organic_search       2296\n",
              "paid_search          1586\n",
              "social               1350\n",
              "unknown              1099\n",
              "direct_traffic        499\n",
              "email                 493\n",
              "referral              284\n",
              "other                 150\n",
              "display               118\n",
              "other_publicities      65\n",
              "Name: origin, dtype: int64"
            ]
          },
          "metadata": {
            "tags": []
          },
          "execution_count": 22
        }
      ]
    },
    {
      "cell_type": "code",
      "metadata": {
        "trusted": true,
        "id": "qS4V-qTY6NPV",
        "colab_type": "code",
        "colab": {
          "base_uri": "https://localhost:8080/",
          "height": 204
        },
        "outputId": "be62ffde-2ea6-4aa5-baca-8807b224ce48"
      },
      "source": [
        "mfb[\"origin\"].value_counts(normalize=True)"
      ],
      "execution_count": 23,
      "outputs": [
        {
          "output_type": "execute_result",
          "data": {
            "text/plain": [
              "organic_search       0.289169\n",
              "paid_search          0.199748\n",
              "social               0.170025\n",
              "unknown              0.138413\n",
              "direct_traffic       0.062846\n",
              "email                0.062091\n",
              "referral             0.035768\n",
              "other                0.018892\n",
              "display              0.014861\n",
              "other_publicities    0.008186\n",
              "Name: origin, dtype: float64"
            ]
          },
          "metadata": {
            "tags": []
          },
          "execution_count": 23
        }
      ]
    },
    {
      "cell_type": "code",
      "metadata": {
        "trusted": true,
        "id": "wY7E0B9-6NPd",
        "colab_type": "code",
        "colab": {
          "base_uri": "https://localhost:8080/",
          "height": 204
        },
        "outputId": "66b64327-6887-47f2-8b5e-88bb27c3c44f"
      },
      "source": [
        "mfbi = mql.merge(cdb, on='mql_id', how='inner')\n",
        "mfbi[\"origin\"].value_counts(normalize=True)"
      ],
      "execution_count": 24,
      "outputs": [
        {
          "output_type": "execute_result",
          "data": {
            "text/plain": [
              "organic_search       0.327295\n",
              "paid_search          0.235507\n",
              "unknown              0.216184\n",
              "social               0.090580\n",
              "direct_traffic       0.067633\n",
              "referral             0.028986\n",
              "email                0.018116\n",
              "display              0.007246\n",
              "other                0.004831\n",
              "other_publicities    0.003623\n",
              "Name: origin, dtype: float64"
            ]
          },
          "metadata": {
            "tags": []
          },
          "execution_count": 24
        }
      ]
    },
    {
      "cell_type": "code",
      "metadata": {
        "trusted": true,
        "id": "TtnsVbwT6NPg",
        "colab_type": "code",
        "colab": {
          "base_uri": "https://localhost:8080/",
          "height": 221
        },
        "outputId": "1d1b356c-057e-4cbf-b298-d5b45a382dba"
      },
      "source": [
        "mfbi[\"landing_page_id\"].value_counts(normalize=True)"
      ],
      "execution_count": 25,
      "outputs": [
        {
          "output_type": "execute_result",
          "data": {
            "text/plain": [
              "22c29808c4f815213303f8933030604c    0.206651\n",
              "b76ef37428e6799c421989521c0e5077    0.203088\n",
              "40dec9f3d5259a3d2dbcdab2114fae47    0.079572\n",
              "ce1a65abd0973638f1c887a6efcfa82d    0.070071\n",
              "88740e65d5d6b056e0cda098e1ea6313    0.036817\n",
              "                                      ...   \n",
              "0e5a178e3cd2368607f3e72f46140476    0.001188\n",
              "13fa6688e41e863dcbfdb4c6112c4c86    0.001188\n",
              "ffc62d6945fd1423539ec6d96326c37c    0.001188\n",
              "ee40ded7dc801923f81ab6dbbf6e5417    0.001188\n",
              "e998c9a2c0e92504311cde9e43a34026    0.001188\n",
              "Name: landing_page_id, Length: 134, dtype: float64"
            ]
          },
          "metadata": {
            "tags": []
          },
          "execution_count": 25
        }
      ]
    },
    {
      "cell_type": "code",
      "metadata": {
        "id": "6BNrEyaJDDkV",
        "colab_type": "code",
        "colab": {
          "base_uri": "https://localhost:8080/",
          "height": 68
        },
        "outputId": "58978b99-4251-49a8-8b09-66aee5a4ce32"
      },
      "source": [
        "!kaggle datasets download -d olistbr/brazilian-ecommerce"
      ],
      "execution_count": 26,
      "outputs": [
        {
          "output_type": "stream",
          "text": [
            "Downloading brazilian-ecommerce.zip to /content\n",
            " 63% 27.0M/42.7M [00:00<00:00, 68.2MB/s]\n",
            "100% 42.7M/42.7M [00:00<00:00, 108MB/s] \n"
          ],
          "name": "stdout"
        }
      ]
    },
    {
      "cell_type": "code",
      "metadata": {
        "id": "xoEQXpO3Dwu1",
        "colab_type": "code",
        "colab": {
          "base_uri": "https://localhost:8080/",
          "height": 34
        },
        "outputId": "8cbd8b70-1185-4c71-eb7e-35f15caed6d2"
      },
      "source": [
        "from zipfile import ZipFile\n",
        "file_name = \"brazilian-ecommerce.zip\"\n",
        "with ZipFile(file_name, 'r') as zip:\n",
        "  zip.extractall()\n",
        "  print('Done')"
      ],
      "execution_count": 27,
      "outputs": [
        {
          "output_type": "stream",
          "text": [
            "Done\n"
          ],
          "name": "stdout"
        }
      ]
    },
    {
      "cell_type": "code",
      "metadata": {
        "trusted": true,
        "id": "KuJAYL8E6NPl",
        "colab_type": "code",
        "colab": {
          "base_uri": "https://localhost:8080/",
          "height": 481
        },
        "outputId": "84b27c33-87fe-45a8-ecd2-32adab3b098c"
      },
      "source": [
        "items = pd.read_csv('olist_order_items_dataset.csv')\n",
        "mfb_items = mfb.merge(items, on='seller_id', how='left')\n",
        "mfb_items.head(10)"
      ],
      "execution_count": 28,
      "outputs": [
        {
          "output_type": "execute_result",
          "data": {
            "text/html": [
              "<div>\n",
              "<style scoped>\n",
              "    .dataframe tbody tr th:only-of-type {\n",
              "        vertical-align: middle;\n",
              "    }\n",
              "\n",
              "    .dataframe tbody tr th {\n",
              "        vertical-align: top;\n",
              "    }\n",
              "\n",
              "    .dataframe thead th {\n",
              "        text-align: right;\n",
              "    }\n",
              "</style>\n",
              "<table border=\"1\" class=\"dataframe\">\n",
              "  <thead>\n",
              "    <tr style=\"text-align: right;\">\n",
              "      <th></th>\n",
              "      <th>mql_id</th>\n",
              "      <th>first_contact_date</th>\n",
              "      <th>landing_page_id</th>\n",
              "      <th>origin</th>\n",
              "      <th>seller_id</th>\n",
              "      <th>sdr_id</th>\n",
              "      <th>sr_id</th>\n",
              "      <th>won_date</th>\n",
              "      <th>business_segment</th>\n",
              "      <th>lead_type</th>\n",
              "      <th>lead_behaviour_profile</th>\n",
              "      <th>has_company</th>\n",
              "      <th>has_gtin</th>\n",
              "      <th>average_stock</th>\n",
              "      <th>business_type</th>\n",
              "      <th>declared_product_catalog_size</th>\n",
              "      <th>declared_monthly_revenue</th>\n",
              "      <th>order_id</th>\n",
              "      <th>order_item_id</th>\n",
              "      <th>product_id</th>\n",
              "      <th>shipping_limit_date</th>\n",
              "      <th>price</th>\n",
              "      <th>freight_value</th>\n",
              "    </tr>\n",
              "  </thead>\n",
              "  <tbody>\n",
              "    <tr>\n",
              "      <th>0</th>\n",
              "      <td>dac32acd4db4c29c230538b72f8dd87d</td>\n",
              "      <td>2018-02-01</td>\n",
              "      <td>88740e65d5d6b056e0cda098e1ea6313</td>\n",
              "      <td>social</td>\n",
              "      <td>NaN</td>\n",
              "      <td>NaN</td>\n",
              "      <td>NaN</td>\n",
              "      <td>NaN</td>\n",
              "      <td>NaN</td>\n",
              "      <td>NaN</td>\n",
              "      <td>NaN</td>\n",
              "      <td>NaN</td>\n",
              "      <td>NaN</td>\n",
              "      <td>NaN</td>\n",
              "      <td>NaN</td>\n",
              "      <td>NaN</td>\n",
              "      <td>NaN</td>\n",
              "      <td>NaN</td>\n",
              "      <td>NaN</td>\n",
              "      <td>NaN</td>\n",
              "      <td>NaN</td>\n",
              "      <td>NaN</td>\n",
              "      <td>NaN</td>\n",
              "    </tr>\n",
              "    <tr>\n",
              "      <th>1</th>\n",
              "      <td>8c18d1de7f67e60dbd64e3c07d7e9d5d</td>\n",
              "      <td>2017-10-20</td>\n",
              "      <td>007f9098284a86ee80ddeb25d53e0af8</td>\n",
              "      <td>paid_search</td>\n",
              "      <td>NaN</td>\n",
              "      <td>NaN</td>\n",
              "      <td>NaN</td>\n",
              "      <td>NaN</td>\n",
              "      <td>NaN</td>\n",
              "      <td>NaN</td>\n",
              "      <td>NaN</td>\n",
              "      <td>NaN</td>\n",
              "      <td>NaN</td>\n",
              "      <td>NaN</td>\n",
              "      <td>NaN</td>\n",
              "      <td>NaN</td>\n",
              "      <td>NaN</td>\n",
              "      <td>NaN</td>\n",
              "      <td>NaN</td>\n",
              "      <td>NaN</td>\n",
              "      <td>NaN</td>\n",
              "      <td>NaN</td>\n",
              "      <td>NaN</td>\n",
              "    </tr>\n",
              "    <tr>\n",
              "      <th>2</th>\n",
              "      <td>b4bc852d233dfefc5131f593b538befa</td>\n",
              "      <td>2018-03-22</td>\n",
              "      <td>a7982125ff7aa3b2054c6e44f9d28522</td>\n",
              "      <td>organic_search</td>\n",
              "      <td>NaN</td>\n",
              "      <td>NaN</td>\n",
              "      <td>NaN</td>\n",
              "      <td>NaN</td>\n",
              "      <td>NaN</td>\n",
              "      <td>NaN</td>\n",
              "      <td>NaN</td>\n",
              "      <td>NaN</td>\n",
              "      <td>NaN</td>\n",
              "      <td>NaN</td>\n",
              "      <td>NaN</td>\n",
              "      <td>NaN</td>\n",
              "      <td>NaN</td>\n",
              "      <td>NaN</td>\n",
              "      <td>NaN</td>\n",
              "      <td>NaN</td>\n",
              "      <td>NaN</td>\n",
              "      <td>NaN</td>\n",
              "      <td>NaN</td>\n",
              "    </tr>\n",
              "    <tr>\n",
              "      <th>3</th>\n",
              "      <td>6be030b81c75970747525b843c1ef4f8</td>\n",
              "      <td>2018-01-22</td>\n",
              "      <td>d45d558f0daeecf3cccdffe3c59684aa</td>\n",
              "      <td>email</td>\n",
              "      <td>NaN</td>\n",
              "      <td>NaN</td>\n",
              "      <td>NaN</td>\n",
              "      <td>NaN</td>\n",
              "      <td>NaN</td>\n",
              "      <td>NaN</td>\n",
              "      <td>NaN</td>\n",
              "      <td>NaN</td>\n",
              "      <td>NaN</td>\n",
              "      <td>NaN</td>\n",
              "      <td>NaN</td>\n",
              "      <td>NaN</td>\n",
              "      <td>NaN</td>\n",
              "      <td>NaN</td>\n",
              "      <td>NaN</td>\n",
              "      <td>NaN</td>\n",
              "      <td>NaN</td>\n",
              "      <td>NaN</td>\n",
              "      <td>NaN</td>\n",
              "    </tr>\n",
              "    <tr>\n",
              "      <th>4</th>\n",
              "      <td>5420aad7fec3549a85876ba1c529bd84</td>\n",
              "      <td>2018-02-21</td>\n",
              "      <td>b48ec5f3b04e9068441002a19df93c6c</td>\n",
              "      <td>organic_search</td>\n",
              "      <td>2c43fb513632d29b3b58df74816f1b06</td>\n",
              "      <td>a8387c01a09e99ce014107505b92388c</td>\n",
              "      <td>4ef15afb4b2723d8f3d81e51ec7afefe</td>\n",
              "      <td>2018-02-26 19:58:54</td>\n",
              "      <td>pet</td>\n",
              "      <td>online_medium</td>\n",
              "      <td>cat</td>\n",
              "      <td>NaN</td>\n",
              "      <td>NaN</td>\n",
              "      <td>NaN</td>\n",
              "      <td>reseller</td>\n",
              "      <td>NaN</td>\n",
              "      <td>0.0</td>\n",
              "      <td>1efcc6ba75b519535a510c53153a9256</td>\n",
              "      <td>1.0</td>\n",
              "      <td>e94df75b2e9a8b056be0c144a731f55c</td>\n",
              "      <td>2018-06-26 22:20:21</td>\n",
              "      <td>94.2</td>\n",
              "      <td>18.76</td>\n",
              "    </tr>\n",
              "    <tr>\n",
              "      <th>5</th>\n",
              "      <td>5420aad7fec3549a85876ba1c529bd84</td>\n",
              "      <td>2018-02-21</td>\n",
              "      <td>b48ec5f3b04e9068441002a19df93c6c</td>\n",
              "      <td>organic_search</td>\n",
              "      <td>2c43fb513632d29b3b58df74816f1b06</td>\n",
              "      <td>a8387c01a09e99ce014107505b92388c</td>\n",
              "      <td>4ef15afb4b2723d8f3d81e51ec7afefe</td>\n",
              "      <td>2018-02-26 19:58:54</td>\n",
              "      <td>pet</td>\n",
              "      <td>online_medium</td>\n",
              "      <td>cat</td>\n",
              "      <td>NaN</td>\n",
              "      <td>NaN</td>\n",
              "      <td>NaN</td>\n",
              "      <td>reseller</td>\n",
              "      <td>NaN</td>\n",
              "      <td>0.0</td>\n",
              "      <td>d8d281c1a1398a1e835fdc4adfb81e2a</td>\n",
              "      <td>1.0</td>\n",
              "      <td>9e0873e9ac04b12f282b81af5daebd2e</td>\n",
              "      <td>2018-07-30 09:31:49</td>\n",
              "      <td>664.0</td>\n",
              "      <td>38.41</td>\n",
              "    </tr>\n",
              "    <tr>\n",
              "      <th>6</th>\n",
              "      <td>5420aad7fec3549a85876ba1c529bd84</td>\n",
              "      <td>2018-02-21</td>\n",
              "      <td>b48ec5f3b04e9068441002a19df93c6c</td>\n",
              "      <td>organic_search</td>\n",
              "      <td>2c43fb513632d29b3b58df74816f1b06</td>\n",
              "      <td>a8387c01a09e99ce014107505b92388c</td>\n",
              "      <td>4ef15afb4b2723d8f3d81e51ec7afefe</td>\n",
              "      <td>2018-02-26 19:58:54</td>\n",
              "      <td>pet</td>\n",
              "      <td>online_medium</td>\n",
              "      <td>cat</td>\n",
              "      <td>NaN</td>\n",
              "      <td>NaN</td>\n",
              "      <td>NaN</td>\n",
              "      <td>reseller</td>\n",
              "      <td>NaN</td>\n",
              "      <td>0.0</td>\n",
              "      <td>e5858127da61f07285827883e605254b</td>\n",
              "      <td>1.0</td>\n",
              "      <td>9bb2d066e4b33b624cbdfec7d50b3dcb</td>\n",
              "      <td>2018-06-27 16:00:04</td>\n",
              "      <td>99.8</td>\n",
              "      <td>15.00</td>\n",
              "    </tr>\n",
              "    <tr>\n",
              "      <th>7</th>\n",
              "      <td>28bdfd5f057764b54c38770f95c69f2f</td>\n",
              "      <td>2018-01-14</td>\n",
              "      <td>22c29808c4f815213303f8933030604c</td>\n",
              "      <td>organic_search</td>\n",
              "      <td>NaN</td>\n",
              "      <td>NaN</td>\n",
              "      <td>NaN</td>\n",
              "      <td>NaN</td>\n",
              "      <td>NaN</td>\n",
              "      <td>NaN</td>\n",
              "      <td>NaN</td>\n",
              "      <td>NaN</td>\n",
              "      <td>NaN</td>\n",
              "      <td>NaN</td>\n",
              "      <td>NaN</td>\n",
              "      <td>NaN</td>\n",
              "      <td>NaN</td>\n",
              "      <td>NaN</td>\n",
              "      <td>NaN</td>\n",
              "      <td>NaN</td>\n",
              "      <td>NaN</td>\n",
              "      <td>NaN</td>\n",
              "      <td>NaN</td>\n",
              "    </tr>\n",
              "    <tr>\n",
              "      <th>8</th>\n",
              "      <td>126a0d10becbaafcb2e72ce6848cf32c</td>\n",
              "      <td>2018-05-15</td>\n",
              "      <td>6a110e795dd487f1cf8d7583671987af</td>\n",
              "      <td>email</td>\n",
              "      <td>NaN</td>\n",
              "      <td>NaN</td>\n",
              "      <td>NaN</td>\n",
              "      <td>NaN</td>\n",
              "      <td>NaN</td>\n",
              "      <td>NaN</td>\n",
              "      <td>NaN</td>\n",
              "      <td>NaN</td>\n",
              "      <td>NaN</td>\n",
              "      <td>NaN</td>\n",
              "      <td>NaN</td>\n",
              "      <td>NaN</td>\n",
              "      <td>NaN</td>\n",
              "      <td>NaN</td>\n",
              "      <td>NaN</td>\n",
              "      <td>NaN</td>\n",
              "      <td>NaN</td>\n",
              "      <td>NaN</td>\n",
              "      <td>NaN</td>\n",
              "    </tr>\n",
              "    <tr>\n",
              "      <th>9</th>\n",
              "      <td>f76136f54d14a3345951f25b7932366b</td>\n",
              "      <td>2018-05-24</td>\n",
              "      <td>d51b0d02f063ba1d053db6d97226eec3</td>\n",
              "      <td>email</td>\n",
              "      <td>NaN</td>\n",
              "      <td>NaN</td>\n",
              "      <td>NaN</td>\n",
              "      <td>NaN</td>\n",
              "      <td>NaN</td>\n",
              "      <td>NaN</td>\n",
              "      <td>NaN</td>\n",
              "      <td>NaN</td>\n",
              "      <td>NaN</td>\n",
              "      <td>NaN</td>\n",
              "      <td>NaN</td>\n",
              "      <td>NaN</td>\n",
              "      <td>NaN</td>\n",
              "      <td>NaN</td>\n",
              "      <td>NaN</td>\n",
              "      <td>NaN</td>\n",
              "      <td>NaN</td>\n",
              "      <td>NaN</td>\n",
              "      <td>NaN</td>\n",
              "    </tr>\n",
              "  </tbody>\n",
              "</table>\n",
              "</div>"
            ],
            "text/plain": [
              "                             mql_id first_contact_date  ...  price freight_value\n",
              "0  dac32acd4db4c29c230538b72f8dd87d         2018-02-01  ...    NaN           NaN\n",
              "1  8c18d1de7f67e60dbd64e3c07d7e9d5d         2017-10-20  ...    NaN           NaN\n",
              "2  b4bc852d233dfefc5131f593b538befa         2018-03-22  ...    NaN           NaN\n",
              "3  6be030b81c75970747525b843c1ef4f8         2018-01-22  ...    NaN           NaN\n",
              "4  5420aad7fec3549a85876ba1c529bd84         2018-02-21  ...   94.2         18.76\n",
              "5  5420aad7fec3549a85876ba1c529bd84         2018-02-21  ...  664.0         38.41\n",
              "6  5420aad7fec3549a85876ba1c529bd84         2018-02-21  ...   99.8         15.00\n",
              "7  28bdfd5f057764b54c38770f95c69f2f         2018-01-14  ...    NaN           NaN\n",
              "8  126a0d10becbaafcb2e72ce6848cf32c         2018-05-15  ...    NaN           NaN\n",
              "9  f76136f54d14a3345951f25b7932366b         2018-05-24  ...    NaN           NaN\n",
              "\n",
              "[10 rows x 23 columns]"
            ]
          },
          "metadata": {
            "tags": []
          },
          "execution_count": 28
        }
      ]
    },
    {
      "cell_type": "code",
      "metadata": {
        "trusted": true,
        "id": "TkvwoqwH6NPt",
        "colab_type": "code",
        "colab": {
          "base_uri": "https://localhost:8080/",
          "height": 390
        },
        "outputId": "b8aebe19-3477-448b-e35b-334712dcc289"
      },
      "source": [
        "origin = mfb_items.groupby(['origin']).sum()\n",
        "origin.sort_values(by='price', ascending=False)"
      ],
      "execution_count": 29,
      "outputs": [
        {
          "output_type": "execute_result",
          "data": {
            "text/html": [
              "<div>\n",
              "<style scoped>\n",
              "    .dataframe tbody tr th:only-of-type {\n",
              "        vertical-align: middle;\n",
              "    }\n",
              "\n",
              "    .dataframe tbody tr th {\n",
              "        vertical-align: top;\n",
              "    }\n",
              "\n",
              "    .dataframe thead th {\n",
              "        text-align: right;\n",
              "    }\n",
              "</style>\n",
              "<table border=\"1\" class=\"dataframe\">\n",
              "  <thead>\n",
              "    <tr style=\"text-align: right;\">\n",
              "      <th></th>\n",
              "      <th>declared_product_catalog_size</th>\n",
              "      <th>declared_monthly_revenue</th>\n",
              "      <th>order_item_id</th>\n",
              "      <th>price</th>\n",
              "      <th>freight_value</th>\n",
              "    </tr>\n",
              "    <tr>\n",
              "      <th>origin</th>\n",
              "      <th></th>\n",
              "      <th></th>\n",
              "      <th></th>\n",
              "      <th></th>\n",
              "      <th></th>\n",
              "    </tr>\n",
              "  </thead>\n",
              "  <tbody>\n",
              "    <tr>\n",
              "      <th>unknown</th>\n",
              "      <td>309.0</td>\n",
              "      <td>463006.0</td>\n",
              "      <td>1539.0</td>\n",
              "      <td>213742.70</td>\n",
              "      <td>25020.70</td>\n",
              "    </tr>\n",
              "    <tr>\n",
              "      <th>organic_search</th>\n",
              "      <td>5347.0</td>\n",
              "      <td>51426000.0</td>\n",
              "      <td>1592.0</td>\n",
              "      <td>207023.45</td>\n",
              "      <td>28933.13</td>\n",
              "    </tr>\n",
              "    <tr>\n",
              "      <th>paid_search</th>\n",
              "      <td>5951.0</td>\n",
              "      <td>9169000.0</td>\n",
              "      <td>1746.0</td>\n",
              "      <td>155277.05</td>\n",
              "      <td>26723.01</td>\n",
              "    </tr>\n",
              "    <tr>\n",
              "      <th>social</th>\n",
              "      <td>3312.0</td>\n",
              "      <td>501000.0</td>\n",
              "      <td>512.0</td>\n",
              "      <td>43477.99</td>\n",
              "      <td>7885.48</td>\n",
              "    </tr>\n",
              "    <tr>\n",
              "      <th>direct_traffic</th>\n",
              "      <td>135.0</td>\n",
              "      <td>60000.0</td>\n",
              "      <td>266.0</td>\n",
              "      <td>21903.90</td>\n",
              "      <td>5645.90</td>\n",
              "    </tr>\n",
              "    <tr>\n",
              "      <th>referral</th>\n",
              "      <td>105.0</td>\n",
              "      <td>0.0</td>\n",
              "      <td>95.0</td>\n",
              "      <td>17887.15</td>\n",
              "      <td>1800.69</td>\n",
              "    </tr>\n",
              "    <tr>\n",
              "      <th>email</th>\n",
              "      <td>20.0</td>\n",
              "      <td>15000.0</td>\n",
              "      <td>26.0</td>\n",
              "      <td>8484.99</td>\n",
              "      <td>637.42</td>\n",
              "    </tr>\n",
              "    <tr>\n",
              "      <th>other</th>\n",
              "      <td>0.0</td>\n",
              "      <td>0.0</td>\n",
              "      <td>112.0</td>\n",
              "      <td>6888.65</td>\n",
              "      <td>1877.98</td>\n",
              "    </tr>\n",
              "    <tr>\n",
              "      <th>display</th>\n",
              "      <td>0.0</td>\n",
              "      <td>0.0</td>\n",
              "      <td>7.0</td>\n",
              "      <td>923.00</td>\n",
              "      <td>284.95</td>\n",
              "    </tr>\n",
              "    <tr>\n",
              "      <th>other_publicities</th>\n",
              "      <td>0.0</td>\n",
              "      <td>0.0</td>\n",
              "      <td>0.0</td>\n",
              "      <td>0.00</td>\n",
              "      <td>0.00</td>\n",
              "    </tr>\n",
              "  </tbody>\n",
              "</table>\n",
              "</div>"
            ],
            "text/plain": [
              "                   declared_product_catalog_size  ...  freight_value\n",
              "origin                                            ...               \n",
              "unknown                                    309.0  ...       25020.70\n",
              "organic_search                            5347.0  ...       28933.13\n",
              "paid_search                               5951.0  ...       26723.01\n",
              "social                                    3312.0  ...        7885.48\n",
              "direct_traffic                             135.0  ...        5645.90\n",
              "referral                                   105.0  ...        1800.69\n",
              "email                                       20.0  ...         637.42\n",
              "other                                        0.0  ...        1877.98\n",
              "display                                      0.0  ...         284.95\n",
              "other_publicities                            0.0  ...           0.00\n",
              "\n",
              "[10 rows x 5 columns]"
            ]
          },
          "metadata": {
            "tags": []
          },
          "execution_count": 29
        }
      ]
    },
    {
      "cell_type": "markdown",
      "metadata": {
        "id": "ypuG8XDy6NPx",
        "colab_type": "text"
      },
      "source": [
        "**EDA**"
      ]
    },
    {
      "cell_type": "code",
      "metadata": {
        "id": "QKjKHwXLETFn",
        "colab_type": "code",
        "colab": {
          "base_uri": "https://localhost:8080/",
          "height": 34
        },
        "outputId": "13cb5385-5e76-44b1-ec2c-13aa0f8c7d52"
      },
      "source": [
        "from zipfile import ZipFile\n",
        "file_name = \"marketing-funnel-olist.zip\"\n",
        "with ZipFile(file_name, 'r') as zip:\n",
        "  zip.extractall()\n",
        "  print('Done')"
      ],
      "execution_count": 30,
      "outputs": [
        {
          "output_type": "stream",
          "text": [
            "Done\n"
          ],
          "name": "stdout"
        }
      ]
    },
    {
      "cell_type": "code",
      "metadata": {
        "trusted": true,
        "id": "7u_qnFwC6NPy",
        "colab_type": "code",
        "colab": {}
      },
      "source": [
        "import numpy as np\n",
        "import pandas as pd\n",
        "import matplotlib.pyplot as plt\n",
        "import seaborn as sns\n",
        "plt.rcParams['figure.figsize'] = (15.0, 15.0)\n",
        "plt.style.use('ggplot')\n",
        "pd.set_option('display.max_columns', None)  \n",
        "pd.set_option('display.expand_frame_repr', False)\n",
        "pd.set_option('max_colwidth', None)\n",
        "%matplotlib inline\n",
        "\n",
        "leads_df = pd.read_csv(\"olist_marketing_qualified_leads_dataset.csv\")\n",
        "closed_leads_df = pd.read_csv(\"olist_closed_deals_dataset.csv\")"
      ],
      "execution_count": 0,
      "outputs": []
    },
    {
      "cell_type": "code",
      "metadata": {
        "trusted": true,
        "id": "0dz6Vj236NP2",
        "colab_type": "code",
        "colab": {}
      },
      "source": [
        "#helper function\n",
        "def pichart_with_table(main_df,column_name,title,top_n,filename):\n",
        "    fig = plt.figure(figsize=(10,6))\n",
        "\n",
        "    summary = main_df.groupby(column_name)[\"mql_id\"].nunique().sort_values(ascending=False)\n",
        "    df = pd.DataFrame({'source':summary.index, 'counts':summary.values})\n",
        "    labels = df['source']\n",
        "    counts = df['counts']\n",
        "    \n",
        "    ax1 = fig.add_subplot(121)\n",
        "    if top_n > 0:\n",
        "        ax1.pie(counts[0:top_n], labels=labels[0:top_n], autopct='%1.1f%%', startangle=180)\n",
        "    else:\n",
        "        ax1.pie(counts, labels=labels, autopct='%1.1f%%', startangle=180)\n",
        "    ax1.set_title(title)\n",
        "    ax1.axis('equal')\n",
        "\n",
        "    ax2 = fig.add_subplot(122)\n",
        "    font_size=10\n",
        "    ax2.axis('off')\n",
        "    if top_n > 0:\n",
        "        df_table = ax2.table(cellText=df.values[0:top_n], colLabels=df.columns, loc='center',colWidths=[0.8,0.2])\n",
        "    else:\n",
        "         df_table = ax2.table(cellText=df.values, colLabels=df.columns, loc='center',colWidths=[0.8,0.2])\n",
        "\n",
        "    df_table.auto_set_font_size(False)\n",
        "    df_table.set_fontsize(font_size)\n",
        "\n",
        "    fig.tight_layout()\n",
        "    plt.savefig(filename)\n",
        "    plt.show()"
      ],
      "execution_count": 0,
      "outputs": []
    },
    {
      "cell_type": "markdown",
      "metadata": {
        "id": "hOUG_FlA6NP9",
        "colab_type": "text"
      },
      "source": [
        "# ****Summaries****"
      ]
    },
    {
      "cell_type": "markdown",
      "metadata": {
        "id": "Mt3KReNj6NP-",
        "colab_type": "text"
      },
      "source": [
        "1) leads_df (marketing_qualified_leads_dataset)****"
      ]
    },
    {
      "cell_type": "code",
      "metadata": {
        "trusted": true,
        "id": "i6qdnu-L6NP-",
        "colab_type": "code",
        "colab": {
          "base_uri": "https://localhost:8080/",
          "height": 173
        },
        "outputId": "6313ac47-e111-4226-c37a-fc120609a492"
      },
      "source": [
        "leads_df.describe(include=\"all\")"
      ],
      "execution_count": 39,
      "outputs": [
        {
          "output_type": "execute_result",
          "data": {
            "text/html": [
              "<div>\n",
              "<style scoped>\n",
              "    .dataframe tbody tr th:only-of-type {\n",
              "        vertical-align: middle;\n",
              "    }\n",
              "\n",
              "    .dataframe tbody tr th {\n",
              "        vertical-align: top;\n",
              "    }\n",
              "\n",
              "    .dataframe thead th {\n",
              "        text-align: right;\n",
              "    }\n",
              "</style>\n",
              "<table border=\"1\" class=\"dataframe\">\n",
              "  <thead>\n",
              "    <tr style=\"text-align: right;\">\n",
              "      <th></th>\n",
              "      <th>mql_id</th>\n",
              "      <th>first_contact_date</th>\n",
              "      <th>landing_page_id</th>\n",
              "      <th>origin</th>\n",
              "    </tr>\n",
              "  </thead>\n",
              "  <tbody>\n",
              "    <tr>\n",
              "      <th>count</th>\n",
              "      <td>8000</td>\n",
              "      <td>8000</td>\n",
              "      <td>8000</td>\n",
              "      <td>7940</td>\n",
              "    </tr>\n",
              "    <tr>\n",
              "      <th>unique</th>\n",
              "      <td>8000</td>\n",
              "      <td>336</td>\n",
              "      <td>495</td>\n",
              "      <td>10</td>\n",
              "    </tr>\n",
              "    <tr>\n",
              "      <th>top</th>\n",
              "      <td>64cde8cf262a59edacc95c80bd01d695</td>\n",
              "      <td>2018-05-02</td>\n",
              "      <td>b76ef37428e6799c421989521c0e5077</td>\n",
              "      <td>organic_search</td>\n",
              "    </tr>\n",
              "    <tr>\n",
              "      <th>freq</th>\n",
              "      <td>1</td>\n",
              "      <td>93</td>\n",
              "      <td>912</td>\n",
              "      <td>2296</td>\n",
              "    </tr>\n",
              "  </tbody>\n",
              "</table>\n",
              "</div>"
            ],
            "text/plain": [
              "                                  mql_id first_contact_date                   landing_page_id          origin\n",
              "count                               8000               8000                              8000            7940\n",
              "unique                              8000                336                               495              10\n",
              "top     64cde8cf262a59edacc95c80bd01d695         2018-05-02  b76ef37428e6799c421989521c0e5077  organic_search\n",
              "freq                                   1                 93                               912            2296"
            ]
          },
          "metadata": {
            "tags": []
          },
          "execution_count": 39
        }
      ]
    },
    {
      "cell_type": "markdown",
      "metadata": {
        "id": "tmuQsjJk6NQC",
        "colab_type": "text"
      },
      "source": [
        "1. 8000 unique MQL IDs\n",
        "2. 336 separate date instances which show first contact date\n",
        "3. 495 unique landing pages/sources captured\n",
        "4. 10 unique points of origin"
      ]
    },
    {
      "cell_type": "markdown",
      "metadata": {
        "id": "qGdy-cWO6NQD",
        "colab_type": "text"
      },
      "source": [
        "# Origin Analysis******"
      ]
    },
    {
      "cell_type": "markdown",
      "metadata": {
        "id": "_ckCdVET6NQE",
        "colab_type": "text"
      },
      "source": [
        "Roughly 5.5k is online searches, social media and direct traffic (70%), 12% is unknown and rest are sources like email,referralsetc."
      ]
    },
    {
      "cell_type": "code",
      "metadata": {
        "trusted": true,
        "id": "W7QmyXnS6NQE",
        "colab_type": "code",
        "colab": {
          "base_uri": "https://localhost:8080/",
          "height": 441
        },
        "outputId": "71913ef7-6fb2-4917-fb0f-d79cebf46f62"
      },
      "source": [
        "pichart_with_table(leads_df,\"origin\",\"Origin Sources\",-1,\"origin_mql.png\")"
      ],
      "execution_count": 40,
      "outputs": [
        {
          "output_type": "display_data",
          "data": {
            "image/png": "[encoded data removed]",
            "text/plain": [
              "<Figure size 720x432 with 2 Axes>"
            ]
          },
          "metadata": {
            "tags": [],
            "needs_background": "light"
          }
        }
      ]
    },
    {
      "cell_type": "markdown",
      "metadata": {
        "id": "3gBoraJ66ezk",
        "colab_type": "text"
      },
      "source": [
        "First Contact Date Analysis 2018 data is much more (3x, roughly 6k) in comparison to 2017 data (approx.2k)\n"
      ]
    },
    {
      "cell_type": "code",
      "metadata": {
        "id": "kegEYiGR6lld",
        "colab_type": "code",
        "colab": {
          "base_uri": "https://localhost:8080/",
          "height": 579
        },
        "outputId": "312fd9a2-54a4-4bf3-c25a-bf0311d1a66a"
      },
      "source": [
        "leads_df[\"first_contact_date\"] = leads_df[\"first_contact_date\"].astype(\"datetime64\")\n",
        "ldf = leads_df.groupby([leads_df[\"first_contact_date\"].dt.year, leads_df[\"first_contact_date\"].dt.month]).count()\n",
        "ldf.index.names = ['year','month']\n",
        "ldf = ldf.drop(['first_contact_date','landing_page_id','origin'], axis = 1) \n",
        "print(ldf)\n",
        "ldf.plot(kind = \"bar\",legend = False)\n",
        "plt.title(\"First Contact Month Counts\")\n",
        "plt.savefig('first_contact_mql.png')\n",
        "plt.show()"
      ],
      "execution_count": 41,
      "outputs": [
        {
          "output_type": "stream",
          "text": [
            "            mql_id\n",
            "year month        \n",
            "2017 6           4\n",
            "     7         239\n",
            "     8         386\n",
            "     9         312\n",
            "     10        416\n",
            "     11        445\n",
            "     12        200\n",
            "2018 1        1141\n",
            "     2        1028\n",
            "     3        1174\n",
            "     4        1352\n",
            "     5        1303\n"
          ],
          "name": "stdout"
        },
        {
          "output_type": "display_data",
          "data": {
            "image/png": "[encoded data removed]",
            "text/plain": [
              "<Figure size 432x288 with 1 Axes>"
            ]
          },
          "metadata": {
            "tags": [],
            "needs_background": "light"
          }
        }
      ]
    },
    {
      "cell_type": "markdown",
      "metadata": {
        "id": "A3P5F2QwAcxQ",
        "colab_type": "text"
      },
      "source": [
        "2) closed_leads_df (closed_deals_dataset)**bold text**"
      ]
    },
    {
      "cell_type": "code",
      "metadata": {
        "id": "T1IcQPSa62sa",
        "colab_type": "code",
        "colab": {
          "base_uri": "https://localhost:8080/",
          "height": 444
        },
        "outputId": "0d4a5b93-64d5-4c48-9ad8-f3b44f8a535b"
      },
      "source": [
        "closed_leads_df.describe(include=\"all\")"
      ],
      "execution_count": 42,
      "outputs": [
        {
          "output_type": "execute_result",
          "data": {
            "text/html": [
              "<div>\n",
              "<style scoped>\n",
              "    .dataframe tbody tr th:only-of-type {\n",
              "        vertical-align: middle;\n",
              "    }\n",
              "\n",
              "    .dataframe tbody tr th {\n",
              "        vertical-align: top;\n",
              "    }\n",
              "\n",
              "    .dataframe thead th {\n",
              "        text-align: right;\n",
              "    }\n",
              "</style>\n",
              "<table border=\"1\" class=\"dataframe\">\n",
              "  <thead>\n",
              "    <tr style=\"text-align: right;\">\n",
              "      <th></th>\n",
              "      <th>mql_id</th>\n",
              "      <th>seller_id</th>\n",
              "      <th>sdr_id</th>\n",
              "      <th>sr_id</th>\n",
              "      <th>won_date</th>\n",
              "      <th>business_segment</th>\n",
              "      <th>lead_type</th>\n",
              "      <th>lead_behaviour_profile</th>\n",
              "      <th>has_company</th>\n",
              "      <th>has_gtin</th>\n",
              "      <th>average_stock</th>\n",
              "      <th>business_type</th>\n",
              "      <th>declared_product_catalog_size</th>\n",
              "      <th>declared_monthly_revenue</th>\n",
              "    </tr>\n",
              "  </thead>\n",
              "  <tbody>\n",
              "    <tr>\n",
              "      <th>count</th>\n",
              "      <td>842</td>\n",
              "      <td>842</td>\n",
              "      <td>842</td>\n",
              "      <td>842</td>\n",
              "      <td>842</td>\n",
              "      <td>841</td>\n",
              "      <td>836</td>\n",
              "      <td>665</td>\n",
              "      <td>63</td>\n",
              "      <td>64</td>\n",
              "      <td>66</td>\n",
              "      <td>832</td>\n",
              "      <td>69.000000</td>\n",
              "      <td>8.420000e+02</td>\n",
              "    </tr>\n",
              "    <tr>\n",
              "      <th>unique</th>\n",
              "      <td>842</td>\n",
              "      <td>842</td>\n",
              "      <td>32</td>\n",
              "      <td>22</td>\n",
              "      <td>824</td>\n",
              "      <td>33</td>\n",
              "      <td>8</td>\n",
              "      <td>9</td>\n",
              "      <td>2</td>\n",
              "      <td>2</td>\n",
              "      <td>6</td>\n",
              "      <td>3</td>\n",
              "      <td>NaN</td>\n",
              "      <td>NaN</td>\n",
              "    </tr>\n",
              "    <tr>\n",
              "      <th>top</th>\n",
              "      <td>b30be338efa14f74a40949dbafd02b57</td>\n",
              "      <td>fc7adf89a5d4fb88c007094fdae351c4</td>\n",
              "      <td>4b339f9567d060bcea4f5136b9f5949e</td>\n",
              "      <td>4ef15afb4b2723d8f3d81e51ec7afefe</td>\n",
              "      <td>2018-05-04 03:00:00</td>\n",
              "      <td>home_decor</td>\n",
              "      <td>online_medium</td>\n",
              "      <td>cat</td>\n",
              "      <td>True</td>\n",
              "      <td>True</td>\n",
              "      <td>5-20</td>\n",
              "      <td>reseller</td>\n",
              "      <td>NaN</td>\n",
              "      <td>NaN</td>\n",
              "    </tr>\n",
              "    <tr>\n",
              "      <th>freq</th>\n",
              "      <td>1</td>\n",
              "      <td>1</td>\n",
              "      <td>140</td>\n",
              "      <td>133</td>\n",
              "      <td>6</td>\n",
              "      <td>105</td>\n",
              "      <td>332</td>\n",
              "      <td>407</td>\n",
              "      <td>58</td>\n",
              "      <td>54</td>\n",
              "      <td>22</td>\n",
              "      <td>587</td>\n",
              "      <td>NaN</td>\n",
              "      <td>NaN</td>\n",
              "    </tr>\n",
              "    <tr>\n",
              "      <th>mean</th>\n",
              "      <td>NaN</td>\n",
              "      <td>NaN</td>\n",
              "      <td>NaN</td>\n",
              "      <td>NaN</td>\n",
              "      <td>NaN</td>\n",
              "      <td>NaN</td>\n",
              "      <td>NaN</td>\n",
              "      <td>NaN</td>\n",
              "      <td>NaN</td>\n",
              "      <td>NaN</td>\n",
              "      <td>NaN</td>\n",
              "      <td>NaN</td>\n",
              "      <td>233.028986</td>\n",
              "      <td>7.337768e+04</td>\n",
              "    </tr>\n",
              "    <tr>\n",
              "      <th>std</th>\n",
              "      <td>NaN</td>\n",
              "      <td>NaN</td>\n",
              "      <td>NaN</td>\n",
              "      <td>NaN</td>\n",
              "      <td>NaN</td>\n",
              "      <td>NaN</td>\n",
              "      <td>NaN</td>\n",
              "      <td>NaN</td>\n",
              "      <td>NaN</td>\n",
              "      <td>NaN</td>\n",
              "      <td>NaN</td>\n",
              "      <td>NaN</td>\n",
              "      <td>352.380558</td>\n",
              "      <td>1.744799e+06</td>\n",
              "    </tr>\n",
              "    <tr>\n",
              "      <th>min</th>\n",
              "      <td>NaN</td>\n",
              "      <td>NaN</td>\n",
              "      <td>NaN</td>\n",
              "      <td>NaN</td>\n",
              "      <td>NaN</td>\n",
              "      <td>NaN</td>\n",
              "      <td>NaN</td>\n",
              "      <td>NaN</td>\n",
              "      <td>NaN</td>\n",
              "      <td>NaN</td>\n",
              "      <td>NaN</td>\n",
              "      <td>NaN</td>\n",
              "      <td>1.000000</td>\n",
              "      <td>0.000000e+00</td>\n",
              "    </tr>\n",
              "    <tr>\n",
              "      <th>25%</th>\n",
              "      <td>NaN</td>\n",
              "      <td>NaN</td>\n",
              "      <td>NaN</td>\n",
              "      <td>NaN</td>\n",
              "      <td>NaN</td>\n",
              "      <td>NaN</td>\n",
              "      <td>NaN</td>\n",
              "      <td>NaN</td>\n",
              "      <td>NaN</td>\n",
              "      <td>NaN</td>\n",
              "      <td>NaN</td>\n",
              "      <td>NaN</td>\n",
              "      <td>30.000000</td>\n",
              "      <td>0.000000e+00</td>\n",
              "    </tr>\n",
              "    <tr>\n",
              "      <th>50%</th>\n",
              "      <td>NaN</td>\n",
              "      <td>NaN</td>\n",
              "      <td>NaN</td>\n",
              "      <td>NaN</td>\n",
              "      <td>NaN</td>\n",
              "      <td>NaN</td>\n",
              "      <td>NaN</td>\n",
              "      <td>NaN</td>\n",
              "      <td>NaN</td>\n",
              "      <td>NaN</td>\n",
              "      <td>NaN</td>\n",
              "      <td>NaN</td>\n",
              "      <td>100.000000</td>\n",
              "      <td>0.000000e+00</td>\n",
              "    </tr>\n",
              "    <tr>\n",
              "      <th>75%</th>\n",
              "      <td>NaN</td>\n",
              "      <td>NaN</td>\n",
              "      <td>NaN</td>\n",
              "      <td>NaN</td>\n",
              "      <td>NaN</td>\n",
              "      <td>NaN</td>\n",
              "      <td>NaN</td>\n",
              "      <td>NaN</td>\n",
              "      <td>NaN</td>\n",
              "      <td>NaN</td>\n",
              "      <td>NaN</td>\n",
              "      <td>NaN</td>\n",
              "      <td>300.000000</td>\n",
              "      <td>0.000000e+00</td>\n",
              "    </tr>\n",
              "    <tr>\n",
              "      <th>max</th>\n",
              "      <td>NaN</td>\n",
              "      <td>NaN</td>\n",
              "      <td>NaN</td>\n",
              "      <td>NaN</td>\n",
              "      <td>NaN</td>\n",
              "      <td>NaN</td>\n",
              "      <td>NaN</td>\n",
              "      <td>NaN</td>\n",
              "      <td>NaN</td>\n",
              "      <td>NaN</td>\n",
              "      <td>NaN</td>\n",
              "      <td>NaN</td>\n",
              "      <td>2000.000000</td>\n",
              "      <td>5.000000e+07</td>\n",
              "    </tr>\n",
              "  </tbody>\n",
              "</table>\n",
              "</div>"
            ],
            "text/plain": [
              "                                  mql_id                         seller_id                            sdr_id                             sr_id             won_date business_segment      lead_type lead_behaviour_profile has_company has_gtin average_stock business_type  declared_product_catalog_size  declared_monthly_revenue\n",
              "count                                842                               842                               842                               842                  842              841            836                    665          63       64            66           832                      69.000000              8.420000e+02\n",
              "unique                               842                               842                                32                                22                  824               33              8                      9           2        2             6             3                            NaN                       NaN\n",
              "top     b30be338efa14f74a40949dbafd02b57  fc7adf89a5d4fb88c007094fdae351c4  4b339f9567d060bcea4f5136b9f5949e  4ef15afb4b2723d8f3d81e51ec7afefe  2018-05-04 03:00:00       home_decor  online_medium                    cat        True     True          5-20      reseller                            NaN                       NaN\n",
              "freq                                   1                                 1                               140                               133                    6              105            332                    407          58       54            22           587                            NaN                       NaN\n",
              "mean                                 NaN                               NaN                               NaN                               NaN                  NaN              NaN            NaN                    NaN         NaN      NaN           NaN           NaN                     233.028986              7.337768e+04\n",
              "std                                  NaN                               NaN                               NaN                               NaN                  NaN              NaN            NaN                    NaN         NaN      NaN           NaN           NaN                     352.380558              1.744799e+06\n",
              "min                                  NaN                               NaN                               NaN                               NaN                  NaN              NaN            NaN                    NaN         NaN      NaN           NaN           NaN                       1.000000              0.000000e+00\n",
              "25%                                  NaN                               NaN                               NaN                               NaN                  NaN              NaN            NaN                    NaN         NaN      NaN           NaN           NaN                      30.000000              0.000000e+00\n",
              "50%                                  NaN                               NaN                               NaN                               NaN                  NaN              NaN            NaN                    NaN         NaN      NaN           NaN           NaN                     100.000000              0.000000e+00\n",
              "75%                                  NaN                               NaN                               NaN                               NaN                  NaN              NaN            NaN                    NaN         NaN      NaN           NaN           NaN                     300.000000              0.000000e+00\n",
              "max                                  NaN                               NaN                               NaN                               NaN                  NaN              NaN            NaN                    NaN         NaN      NaN           NaN           NaN                    2000.000000              5.000000e+07"
            ]
          },
          "metadata": {
            "tags": []
          },
          "execution_count": 42
        }
      ]
    },
    {
      "cell_type": "markdown",
      "metadata": {
        "id": "lBIdUXPgA5NT",
        "colab_type": "text"
      },
      "source": [
        "* 842 unique MQL_IDs showing 842 closed deals mapped to unique seller_ids  (1-1 mapping)\n",
        "* 32 unique Sales Developement Representative (SDR) with the max one SDR converted was 140 sellers\n",
        "* 22 unique Sales Representatives (SR) with the max on SR related to 133 unique sellers.\n",
        "* 33 unique business segments with home_decor being the most closed segment (105 leads)\n",
        "* 8 unique lead types with online_medium being the most popular one (332 leads)\n",
        "* 9 unique lead behaviour profiles with CAT being most popular one (407 leads)\n",
        "* There is not much data for columns has_company, has_gtin, average_stock and declared_product_catalog size\n",
        "* 3 unique business types with reseller being the most popular one (587 leads)\n",
        "\n"
      ]
    },
    {
      "cell_type": "markdown",
      "metadata": {
        "id": "FQdEUpjgBkog",
        "colab_type": "text"
      },
      "source": [
        "**Business Type Analysis**"
      ]
    },
    {
      "cell_type": "markdown",
      "metadata": {
        "id": "1jwxM18BBrfl",
        "colab_type": "text"
      },
      "source": [
        "Mostly its reseller and manufacturer"
      ]
    },
    {
      "cell_type": "code",
      "metadata": {
        "id": "8GT-bjhPBiSZ",
        "colab_type": "code",
        "colab": {
          "base_uri": "https://localhost:8080/",
          "height": 441
        },
        "outputId": "ae3ab62e-eef6-4f23-cfb1-4b4e815d6a4d"
      },
      "source": [
        "pichart_with_table(closed_leads_df,\"business_type\",\"Business Types\",-1,'business_type_closed_deals.png')"
      ],
      "execution_count": 43,
      "outputs": [
        {
          "output_type": "display_data",
          "data": {
            "image/png": "[encoded data removed]",
            "text/plain": [
              "<Figure size 720x432 with 2 Axes>"
            ]
          },
          "metadata": {
            "tags": [],
            "needs_background": "light"
          }
        }
      ]
    },
    {
      "cell_type": "markdown",
      "metadata": {
        "id": "Xyf5fs4AB0sl",
        "colab_type": "text"
      },
      "source": [
        "**Lead Type Analysis**"
      ]
    },
    {
      "cell_type": "markdown",
      "metadata": {
        "id": "xpSXb09FB35t",
        "colab_type": "text"
      },
      "source": [
        "Online being the dominating one (~83%) and offline and industry combined at ~17%"
      ]
    },
    {
      "cell_type": "code",
      "metadata": {
        "id": "Gd-jDSozB2sA",
        "colab_type": "code",
        "colab": {
          "base_uri": "https://localhost:8080/",
          "height": 441
        },
        "outputId": "74a005f0-57da-4b2c-94ed-b9957294d496"
      },
      "source": [
        "pichart_with_table(closed_leads_df,\"lead_type\",\"Lead Types\",-1,'lead_type_closed_deals.png')"
      ],
      "execution_count": 44,
      "outputs": [
        {
          "output_type": "display_data",
          "data": {
            "image/png": "[encoded data removed]",
            "text/plain": [
              "<Figure size 720x432 with 2 Axes>"
            ]
          },
          "metadata": {
            "tags": [],
            "needs_background": "light"
          }
        }
      ]
    }
  ]
}